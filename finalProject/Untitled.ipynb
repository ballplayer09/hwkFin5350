{
 "cells": [
  {
   "cell_type": "code",
   "execution_count": 1,
   "metadata": {},
   "outputs": [],
   "source": [
    "import math\n",
    "import pandas as pd\n",
    "import numpy as np"
   ]
  },
  {
   "cell_type": "code",
   "execution_count": 2,
   "metadata": {},
   "outputs": [],
   "source": [
    "def volatility(data):    \n",
    "    lagged_close = np.roll(data, 1)\n",
    "    cont_compound_return = np.array([math.log(data[i] / lagged_close[i]) for i in range(len(data))])\n",
    "    \n",
    "    time_period_volatility = cont_compound_return.std()\n",
    "    \n",
    "    return time_period_volatility"
   ]
  },
  {
   "cell_type": "code",
   "execution_count": null,
   "metadata": {},
   "outputs": [],
   "source": [
    "# test the function with SPY data\n",
    "spy_data = pd.read_csv('SPY.csv')\n",
    "\n",
    "spy_close = np.array(spy_data['Adj Close'])\n",
    "\n",
    "volatility(spy_close)"
   ]
  }
 ],
 "metadata": {
  "kernelspec": {
   "display_name": "Python 3",
   "language": "python",
   "name": "python3"
  },
  "language_info": {
   "codemirror_mode": {
    "name": "ipython",
    "version": 3
   },
   "file_extension": ".py",
   "mimetype": "text/x-python",
   "name": "python",
   "nbconvert_exporter": "python",
   "pygments_lexer": "ipython3",
   "version": "3.7.3"
  }
 },
 "nbformat": 4,
 "nbformat_minor": 4
}
