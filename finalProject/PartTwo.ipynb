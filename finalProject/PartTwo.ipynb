{
 "cells": [
  {
   "cell_type": "code",
   "execution_count": 1,
   "metadata": {},
   "outputs": [],
   "source": [
    "import options as opt"
   ]
  },
  {
   "cell_type": "markdown",
   "metadata": {},
   "source": [
    "### __Problem 1__\n",
    "\n",
    "* Using the functions `european_binomial_call` and `european_binomial_put` as starting points, implement the functions `american_binomial_call` and `american_binomial_put`. These functions should solve the optimal stopping problem implicit in the American option pricing problem. Write your solutions in the `options.py` module. This step is to be completed before you import the module for the problems below. "
   ]
  },
  {
   "cell_type": "markdown",
   "metadata": {},
   "source": [
    "### __Problem 2__"
   ]
  },
  {
   "cell_type": "code",
   "execution_count": 2,
   "metadata": {},
   "outputs": [],
   "source": [
    "spot = 100.0\n",
    "strike = 95.0\n",
    "rate = .08\n",
    "expiry = 1\n",
    "div = 0.0\n",
    "vol = .30\n",
    "num = 3"
   ]
  },
  {
   "cell_type": "markdown",
   "metadata": {},
   "source": [
    "#### (a)"
   ]
  },
  {
   "cell_type": "code",
   "execution_count": 3,
   "metadata": {},
   "outputs": [
    {
     "data": {
      "text/plain": [
       "18.28255220737056"
      ]
     },
     "execution_count": 3,
     "metadata": {},
     "output_type": "execute_result"
    }
   ],
   "source": [
    "opt.american_binomial_pricer(spot, strike, expiry, rate, div, vol, num, opt.call_payoff)"
   ]
  },
  {
   "cell_type": "code",
   "execution_count": 4,
   "metadata": {},
   "outputs": [
    {
     "data": {
      "text/plain": [
       "18.282552207370557"
      ]
     },
     "execution_count": 4,
     "metadata": {},
     "output_type": "execute_result"
    }
   ],
   "source": [
    "eurocall = opt.european_binomial_pricer(spot, strike, expiry, rate, div, vol, num, opt.call_payoff)\n",
    "eurocall"
   ]
  },
  {
   "cell_type": "markdown",
   "metadata": {},
   "source": [
    "We get the same result for both the American and European options hense we can deduct that the American does not exercise early."
   ]
  },
  {
   "cell_type": "markdown",
   "metadata": {},
   "source": [
    "#### (b)"
   ]
  },
  {
   "cell_type": "code",
   "execution_count": 5,
   "metadata": {},
   "outputs": [
    {
     "data": {
      "text/plain": [
       "5.9786051141009695"
      ]
     },
     "execution_count": 5,
     "metadata": {},
     "output_type": "execute_result"
    }
   ],
   "source": [
    "europut = opt.european_binomial_pricer(spot, strike, expiry, rate, div, vol, num, opt.put_payoff)\n",
    "europut"
   ]
  },
  {
   "cell_type": "code",
   "execution_count": 6,
   "metadata": {},
   "outputs": [
    {
     "name": "stdout",
     "output_type": "stream",
     "text": [
      "12.303947093269588 = 12.037037037037036 so we're good\n"
     ]
    }
   ],
   "source": [
    "left = eurocall - europut\n",
    "right = (spot*(1+rate) - strike)/(1+rate)\n",
    "print(f\"{left} = {right} so we're good\")"
   ]
  },
  {
   "cell_type": "markdown",
   "metadata": {},
   "source": [
    "For put call parity to be satisfied we must verify that call - put = (spot(1+rate)^period) - strike)/(1+rate)^period which we show in the above calculation."
   ]
  },
  {
   "cell_type": "markdown",
   "metadata": {},
   "source": [
    "#### (c)"
   ]
  },
  {
   "cell_type": "code",
   "execution_count": 7,
   "metadata": {},
   "outputs": [
    {
     "data": {
      "text/plain": [
       "6.677901227132065"
      ]
     },
     "execution_count": 7,
     "metadata": {},
     "output_type": "execute_result"
    }
   ],
   "source": [
    "opt.american_binomial_pricer(spot, strike, expiry, rate, div, vol, num, opt.put_payoff)"
   ]
  },
  {
   "cell_type": "markdown",
   "metadata": {},
   "source": [
    "### (d)"
   ]
  },
  {
   "cell_type": "code",
   "execution_count": 8,
   "metadata": {},
   "outputs": [],
   "source": [
    "num = 200"
   ]
  },
  {
   "cell_type": "code",
   "execution_count": 9,
   "metadata": {},
   "outputs": [],
   "source": [
    "i = opt.american_binomial_pricer(spot, strike, expiry, rate, div, vol, num, opt.call_payoff)\n",
    "ii = opt.european_binomial_pricer(spot, strike, expiry, rate, div, vol, num, opt.call_payoff)\n",
    "iii = opt.european_binomial_pricer(spot, strike, expiry, rate, div, vol, num, opt.put_payoff)\n",
    "iv = opt.american_binomial_pricer(spot, strike, expiry, rate, div, vol, num, opt.put_payoff)"
   ]
  },
  {
   "cell_type": "code",
   "execution_count": 10,
   "metadata": {},
   "outputs": [
    {
     "name": "stdout",
     "output_type": "stream",
     "text": [
      "American Call: 18.382058262462763\n",
      "European Call: 18.38205826246271\n",
      "American Put: 6.684903123203309\n",
      "European Put: 6.0781111691912235\n"
     ]
    }
   ],
   "source": [
    "print(f\"American Call: {i}\") \n",
    "print(f\"European Call: {ii}\")\n",
    "print(f\"American Put: {iv}\")\n",
    "print(f\"European Put: {iii}\")"
   ]
  },
  {
   "cell_type": "markdown",
   "metadata": {},
   "source": [
    "If there is no dividend in the calculation, then there is nothing distinguishing the American call from the European and there will be no early exercise. "
   ]
  },
  {
   "cell_type": "markdown",
   "metadata": {},
   "source": [
    "## Problem 3"
   ]
  },
  {
   "cell_type": "markdown",
   "metadata": {},
   "source": [
    "Calculations first and then summary of results"
   ]
  },
  {
   "cell_type": "code",
   "execution_count": 12,
   "metadata": {},
   "outputs": [],
   "source": [
    "div = 0.08\n",
    "num = 3"
   ]
  },
  {
   "cell_type": "markdown",
   "metadata": {},
   "source": [
    "#### (a)"
   ]
  },
  {
   "cell_type": "code",
   "execution_count": 13,
   "metadata": {},
   "outputs": [
    {
     "data": {
      "text/plain": [
       "14.183022701537352"
      ]
     },
     "execution_count": 13,
     "metadata": {},
     "output_type": "execute_result"
    }
   ],
   "source": [
    "opt.american_binomial_pricer(spot, strike, expiry, rate, div, vol, num, opt.call_payoff)"
   ]
  },
  {
   "cell_type": "code",
   "execution_count": 14,
   "metadata": {},
   "outputs": [
    {
     "data": {
      "text/plain": [
       "13.94147937188108"
      ]
     },
     "execution_count": 14,
     "metadata": {},
     "output_type": "execute_result"
    }
   ],
   "source": [
    "eurocall = opt.european_binomial_pricer(spot, strike, expiry, rate, div, vol, num, opt.call_payoff)\n",
    "eurocall"
   ]
  },
  {
   "cell_type": "markdown",
   "metadata": {},
   "source": [
    "#### (b)"
   ]
  },
  {
   "cell_type": "code",
   "execution_count": 15,
   "metadata": {},
   "outputs": [
    {
     "data": {
      "text/plain": [
       "9.3258976399479"
      ]
     },
     "execution_count": 15,
     "metadata": {},
     "output_type": "execute_result"
    }
   ],
   "source": [
    "europut = opt.european_binomial_pricer(spot, strike, expiry, rate, div, vol, num, opt.put_payoff)\n",
    "europut"
   ]
  },
  {
   "cell_type": "markdown",
   "metadata": {},
   "source": [
    "#### (c)"
   ]
  },
  {
   "cell_type": "code",
   "execution_count": 17,
   "metadata": {},
   "outputs": [
    {
     "data": {
      "text/plain": [
       "9.504606550920677"
      ]
     },
     "execution_count": 17,
     "metadata": {},
     "output_type": "execute_result"
    }
   ],
   "source": [
    "opt.american_binomial_pricer(spot, strike, expiry, rate, div, vol, num, opt.put_payoff)"
   ]
  },
  {
   "cell_type": "markdown",
   "metadata": {},
   "source": [
    "### (d)"
   ]
  },
  {
   "cell_type": "code",
   "execution_count": 18,
   "metadata": {},
   "outputs": [],
   "source": [
    "num = 200"
   ]
  },
  {
   "cell_type": "code",
   "execution_count": 19,
   "metadata": {},
   "outputs": [],
   "source": [
    "i = opt.american_binomial_pricer(spot, strike, expiry, rate, div, vol, num, opt.call_payoff)\n",
    "ii = opt.european_binomial_pricer(spot, strike, expiry, rate, div, vol, num, opt.call_payoff)\n",
    "iii = opt.european_binomial_pricer(spot, strike, expiry, rate, div, vol, num, opt.put_payoff)\n",
    "iv = opt.american_binomial_pricer(spot, strike, expiry, rate, div, vol, num, opt.put_payoff)"
   ]
  },
  {
   "cell_type": "code",
   "execution_count": 20,
   "metadata": {},
   "outputs": [
    {
     "name": "stdout",
     "output_type": "stream",
     "text": [
      "American Call: 13.502471888067932\n",
      "European Call: 13.198625393818965\n",
      "American Put: 8.735786652694028\n",
      "European Put: 8.583043661885752\n"
     ]
    }
   ],
   "source": [
    "print(f\"American Call: {i}\") \n",
    "print(f\"European Call: {ii}\")\n",
    "print(f\"American Put: {iv}\")\n",
    "print(f\"European Put: {iii}\")"
   ]
  },
  {
   "cell_type": "markdown",
   "metadata": {},
   "source": [
    "Above we show the same calculations as problem 2 but with the change in dividend. As each American option results in a different price than the European options we conclude that each American option exercised early.  "
   ]
  },
  {
   "cell_type": "code",
   "execution_count": null,
   "metadata": {},
   "outputs": [],
   "source": []
  }
 ],
 "metadata": {
  "kernelspec": {
   "display_name": "Python 3",
   "language": "python",
   "name": "python3"
  },
  "language_info": {
   "codemirror_mode": {
    "name": "ipython",
    "version": 3
   },
   "file_extension": ".py",
   "mimetype": "text/x-python",
   "name": "python",
   "nbconvert_exporter": "python",
   "pygments_lexer": "ipython3",
   "version": "3.7.4"
  }
 },
 "nbformat": 4,
 "nbformat_minor": 4
}
