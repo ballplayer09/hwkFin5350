{
 "cells": [
  {
   "cell_type": "code",
   "execution_count": 10,
   "metadata": {},
   "outputs": [],
   "source": [
    "import options as opt\n",
    "import numpy as np\n",
    "from typing import Callable\n",
    "import pandas as pd"
   ]
  },
  {
   "cell_type": "code",
   "execution_count": 11,
   "metadata": {},
   "outputs": [],
   "source": [
    "spot = 41.0\n",
    "strike = 40.0\n",
    "expiry = 1\n",
    "vol = 0.3\n",
    "rate = 0.08\n",
    "div = 0.0\n",
    "num = 200"
   ]
  },
  {
   "cell_type": "code",
   "execution_count": 12,
   "metadata": {},
   "outputs": [],
   "source": [
    "binomial_call = opt.european_binomial_pricer(spot, strike, expiry, rate, div, vol, num, payoff=opt.call_payoff)\n",
    "binomial_put = opt.european_binomial_pricer(spot, strike, expiry, rate, div, vol, num, payoff=opt.put_payoff)\n",
    "black_scholes_call = opt.black_scholes_call(spot, strike, expiry, rate, div, vol)\n",
    "black_scholes_put = opt.black_scholes_put(spot, strike, expiry, rate, div, vol)"
   ]
  },
  {
   "cell_type": "code",
   "execution_count": 17,
   "metadata": {},
   "outputs": [],
   "source": [
    "def monte_carlo_sim(spot:float, strike:float, expiry: int, vol:float, rate:float, div:float, payoff: Callable, M:int):\n",
    "\n",
    "    discounted_means = np.zeros(M)\n",
    "    standard_errors = np.zeros(M)\n",
    "\n",
    "    # call simulation function for M paths\n",
    "    for num_simulations in M:\n",
    "        terminal_prices = np.zeros(M)\n",
    "        # get M binomial paths\n",
    "        for i in range(num_simulations):\n",
    "            terminal_prices[i] = opt.binomial_path(spot, expiry, rate, div, vol, num)[-1]\n",
    "\n",
    "        option_payoffs = payoff(terminal_prices, strike)\n",
    "\n",
    "        average_payoff = np.mean(option_payoffs)\n",
    "        standard_error_payoff = np.std(option_payoffs) / np.sqrt(M)\n",
    "\n",
    "        discount_factor = np.exp(-rate * expiry)\n",
    "        discounted_mean = average_payoff * discount_factor\n",
    "\n",
    "        discounted_means[i] = discounted_mean\n",
    "        standard_errors[i] = standard_error_payoff\n",
    "\n",
    "    results = pd.DataFrame({'Mean':discounted_means, 'Standard Error':standard_errors})\n",
    "    return(results)"
   ]
  },
  {
   "cell_type": "code",
   "execution_count": 18,
   "metadata": {},
   "outputs": [],
   "source": [
    "# M = [10000, 25000, 50000, 75000, 100000]\n",
    "M = [10000]\n",
    "monte_carlo_call = monte_carlo_sim(spot, strike, expiry, vol, rate, div, opt.call_payoff, M)\n",
    "monte_carlo_put = monte_carlo_sim(spot, strike, expiry, vol, rate, div, opt.put_payoff, M)"
   ]
  },
  {
   "cell_type": "markdown",
   "metadata": {},
   "source": [
    "# Conclusion"
   ]
  },
  {
   "cell_type": "code",
   "execution_count": 19,
   "metadata": {},
   "outputs": [
    {
     "data": {
      "text/html": [
       "<div>\n",
       "<style scoped>\n",
       "    .dataframe tbody tr th:only-of-type {\n",
       "        vertical-align: middle;\n",
       "    }\n",
       "\n",
       "    .dataframe tbody tr th {\n",
       "        vertical-align: top;\n",
       "    }\n",
       "\n",
       "    .dataframe thead th {\n",
       "        text-align: right;\n",
       "    }\n",
       "</style>\n",
       "<table border=\"1\" class=\"dataframe\">\n",
       "  <thead>\n",
       "    <tr style=\"text-align: right;\">\n",
       "      <th></th>\n",
       "      <th>Mean</th>\n",
       "      <th>Standard Error</th>\n",
       "    </tr>\n",
       "  </thead>\n",
       "  <tbody>\n",
       "    <tr>\n",
       "      <td>0</td>\n",
       "      <td>0.000000</td>\n",
       "      <td>0.000000</td>\n",
       "    </tr>\n",
       "    <tr>\n",
       "      <td>1</td>\n",
       "      <td>0.000000</td>\n",
       "      <td>0.000000</td>\n",
       "    </tr>\n",
       "    <tr>\n",
       "      <td>2</td>\n",
       "      <td>0.000000</td>\n",
       "      <td>0.000000</td>\n",
       "    </tr>\n",
       "    <tr>\n",
       "      <td>3</td>\n",
       "      <td>0.000000</td>\n",
       "      <td>0.000000</td>\n",
       "    </tr>\n",
       "    <tr>\n",
       "      <td>4</td>\n",
       "      <td>0.000000</td>\n",
       "      <td>0.000000</td>\n",
       "    </tr>\n",
       "    <tr>\n",
       "      <td>...</td>\n",
       "      <td>...</td>\n",
       "      <td>...</td>\n",
       "    </tr>\n",
       "    <tr>\n",
       "      <td>9995</td>\n",
       "      <td>0.000000</td>\n",
       "      <td>0.000000</td>\n",
       "    </tr>\n",
       "    <tr>\n",
       "      <td>9996</td>\n",
       "      <td>0.000000</td>\n",
       "      <td>0.000000</td>\n",
       "    </tr>\n",
       "    <tr>\n",
       "      <td>9997</td>\n",
       "      <td>0.000000</td>\n",
       "      <td>0.000000</td>\n",
       "    </tr>\n",
       "    <tr>\n",
       "      <td>9998</td>\n",
       "      <td>0.000000</td>\n",
       "      <td>0.000000</td>\n",
       "    </tr>\n",
       "    <tr>\n",
       "      <td>9999</td>\n",
       "      <td>7.221174</td>\n",
       "      <td>0.110724</td>\n",
       "    </tr>\n",
       "  </tbody>\n",
       "</table>\n",
       "<p>10000 rows × 2 columns</p>\n",
       "</div>"
      ],
      "text/plain": [
       "          Mean  Standard Error\n",
       "0     0.000000        0.000000\n",
       "1     0.000000        0.000000\n",
       "2     0.000000        0.000000\n",
       "3     0.000000        0.000000\n",
       "4     0.000000        0.000000\n",
       "...        ...             ...\n",
       "9995  0.000000        0.000000\n",
       "9996  0.000000        0.000000\n",
       "9997  0.000000        0.000000\n",
       "9998  0.000000        0.000000\n",
       "9999  7.221174        0.110724\n",
       "\n",
       "[10000 rows x 2 columns]"
      ]
     },
     "execution_count": 19,
     "metadata": {},
     "output_type": "execute_result"
    }
   ],
   "source": [
    "monte_carlo_call"
   ]
  },
  {
   "cell_type": "code",
   "execution_count": null,
   "metadata": {},
   "outputs": [],
   "source": []
  }
 ],
 "metadata": {
  "kernelspec": {
   "display_name": "Python 3",
   "language": "python",
   "name": "python3"
  },
  "language_info": {
   "codemirror_mode": {
    "name": "ipython",
    "version": 3
   },
   "file_extension": ".py",
   "mimetype": "text/x-python",
   "name": "python",
   "nbconvert_exporter": "python",
   "pygments_lexer": "ipython3",
   "version": "3.7.4"
  }
 },
 "nbformat": 4,
 "nbformat_minor": 4
}
