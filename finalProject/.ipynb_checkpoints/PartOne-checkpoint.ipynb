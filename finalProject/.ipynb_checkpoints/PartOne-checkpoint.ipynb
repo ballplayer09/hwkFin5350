{
 "cells": [
  {
   "cell_type": "code",
   "execution_count": 5,
   "metadata": {},
   "outputs": [],
   "source": [
    "import options as opt\n",
    "import math\n",
    "from typing import Callable\n",
    "import numpy as np"
   ]
  },
  {
   "cell_type": "markdown",
   "metadata": {},
   "source": [
    "* __(b)__ Verify that it works for both call and put options with $n = 1$ (i.e. a single period). Compare against a hand-written solution. Assume the following:\n",
    "    - Let $S_{0} = \\$100$\n",
    "    - Let $K = \\$105$\n",
    "    - Let $r = 8\\%$\n",
    "    - Let $T = 1$ year\n",
    "    - Let $\\delta = 0.0$ (i.e. no dividends)\n",
    "    - Let $\\sigma = 20\\%$"
   ]
  },
  {
   "cell_type": "code",
   "execution_count": 18,
   "metadata": {},
   "outputs": [],
   "source": [
    "spot = 100\n",
    "strike = 105\n",
    "rate = .08\n",
    "expiry = 1\n",
    "div = 0.\n",
    "vol = .2\n",
    "num = 200"
   ]
  },
  {
   "cell_type": "code",
   "execution_count": 19,
   "metadata": {},
   "outputs": [
    {
     "name": "stdout",
     "output_type": "stream",
     "text": [
      "1.0146483868933518\n",
      "0.986351856478675\n",
      "0.4964645250184573\n",
      "10.26079737212051\n",
      "0.9231163463866358\n"
     ]
    }
   ],
   "source": [
    "results = opt.european_binomial_pricer(spot, strike, expiry, rate, div, vol, num, call=True)"
   ]
  },
  {
   "cell_type": "code",
   "execution_count": 20,
   "metadata": {},
   "outputs": [
    {
     "data": {
      "text/plain": [
       "9.471909781165479"
      ]
     },
     "execution_count": 20,
     "metadata": {},
     "output_type": "execute_result"
    }
   ],
   "source": [
    "results\n"
   ]
  },
  {
   "cell_type": "code",
   "execution_count": null,
   "metadata": {},
   "outputs": [],
   "source": []
  },
  {
   "cell_type": "code",
   "execution_count": null,
   "metadata": {},
   "outputs": [],
   "source": []
  }
 ],
 "metadata": {
  "kernelspec": {
   "display_name": "Python 3",
   "language": "python",
   "name": "python3"
  },
  "language_info": {
   "codemirror_mode": {
    "name": "ipython",
    "version": 3
   },
   "file_extension": ".py",
   "mimetype": "text/x-python",
   "name": "python",
   "nbconvert_exporter": "python",
   "pygments_lexer": "ipython3",
   "version": "3.7.3"
  }
 },
 "nbformat": 4,
 "nbformat_minor": 4
}
