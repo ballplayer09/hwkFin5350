{
 "cells": [
  {
   "cell_type": "code",
   "execution_count": 1,
   "metadata": {},
   "outputs": [],
   "source": [
    "import options as opt\n",
    "import math\n",
    "from typing import Callable\n",
    "import numpy as np"
   ]
  },
  {
   "cell_type": "markdown",
   "metadata": {},
   "source": [
    "* __(b)__ Verify that it works for both call and put options with $n = 1$ (i.e. a single period). Compare against a hand-written solution. Assume the following:\n",
    "    - Let $S_{0} = \\$100$\n",
    "    - Let $K = \\$105$\n",
    "    - Let $r = 8\\%$\n",
    "    - Let $T = 1$ year\n",
    "    - Let $\\delta = 0.0$ (i.e. no dividends)\n",
    "    - Let $\\sigma = 20\\%$"
   ]
  },
  {
   "cell_type": "code",
   "execution_count": 2,
   "metadata": {},
   "outputs": [],
   "source": [
    "spot = 100\n",
    "strike = 105\n",
    "rate = .08\n",
    "expiry = 1\n",
    "div = 0.\n",
    "vol = .2\n",
    "num = 1"
   ]
  },
  {
   "cell_type": "code",
   "execution_count": 3,
   "metadata": {},
   "outputs": [],
   "source": [
    "stock_prices = {}\n",
    "stock_prices['Period_0'] = np.array([100])\n",
    "# stock_prices['Period_1'] = np.array([120, 85])"
   ]
  },
  {
   "cell_type": "code",
   "execution_count": 4,
   "metadata": {},
   "outputs": [
    {
     "data": {
      "text/plain": [
       "{'Period_1': array([100]),\n",
       " 'Period_2': [110.00000000000001, 85.0],\n",
       " 'Period_3': [121.00000000000003, 93.50000000000001, 72.25],\n",
       " 'Period_4': [133.10000000000005,\n",
       "  102.85000000000002,\n",
       "  79.47500000000001,\n",
       "  61.4125],\n",
       " 'Period_5': [146.41000000000008,\n",
       "  113.13500000000003,\n",
       "  87.42250000000001,\n",
       "  67.55375000000001,\n",
       "  52.200625]}"
      ]
     },
     "execution_count": 4,
     "metadata": {},
     "output_type": "execute_result"
    }
   ],
   "source": [
    "num_periods = 4\n",
    "u = 1.1\n",
    "d = .85\n",
    "\n",
    "for i in range(1, num_periods+1):\n",
    "    previous_prices = stock_prices[f\"Period_{i - 1}\"]\n",
    "\n",
    "    temp = []\n",
    "    for price in previous_prices:\n",
    "        temp.append(price * u)\n",
    "        temp.append(price * d)\n",
    "    \n",
    "    result = []\n",
    "    [result.append(price) for price in temp if price not in result]        \n",
    "        \n",
    "    stock_prices[f\"Period_{i}\"] = result\n",
    "\n",
    "stock_prices"
   ]
  },
  {
   "cell_type": "code",
   "execution_count": 6,
   "metadata": {},
   "outputs": [
    {
     "data": {
      "text/plain": [
       "87.42250000000001"
      ]
     },
     "execution_count": 6,
     "metadata": {},
     "output_type": "execute_result"
    }
   ],
   "source": [
    "stock_prices['Period_5'][0]"
   ]
  },
  {
   "cell_type": "code",
   "execution_count": null,
   "metadata": {},
   "outputs": [],
   "source": []
  }
 ],
 "metadata": {
  "kernelspec": {
   "display_name": "Python 3",
   "language": "python",
   "name": "python3"
  },
  "language_info": {
   "codemirror_mode": {
    "name": "ipython",
    "version": 3
   },
   "file_extension": ".py",
   "mimetype": "text/x-python",
   "name": "python",
   "nbconvert_exporter": "python",
   "pygments_lexer": "ipython3",
   "version": "3.7.4"
  }
 },
 "nbformat": 4,
 "nbformat_minor": 4
}
