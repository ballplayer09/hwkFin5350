{
 "cells": [
  {
   "cell_type": "code",
   "execution_count": 1,
   "metadata": {},
   "outputs": [],
   "source": [
    "import options as opt\n",
    "import math\n",
    "from typing import Callable\n",
    "import numpy as np\n",
    "import pandas as pd"
   ]
  },
  {
   "cell_type": "markdown",
   "metadata": {},
   "source": [
    "* __(b)__ Verify that it works for both call and put options with $n = 1$ (i.e. a single period). Compare against a hand-written solution. Assume the following:\n",
    "    - Let $S_{0} = \\$100$\n",
    "    - Let $K = \\$105$\n",
    "    - Let $r = 8\\%$\n",
    "    - Let $T = 1$ year\n",
    "    - Let $\\delta = 0.0$ (i.e. no dividends)\n",
    "    - Let $\\sigma = 20\\%$"
   ]
  },
  {
   "cell_type": "code",
   "execution_count": 2,
   "metadata": {},
   "outputs": [],
   "source": [
    "spot = 100\n",
    "strike = 105\n",
    "rate = .08\n",
    "expiry = 1\n",
    "div = 0.\n",
    "vol = .2\n",
    "num = 1"
   ]
  },
  {
   "cell_type": "code",
   "execution_count": 3,
   "metadata": {},
   "outputs": [
    {
     "name": "stdout",
     "output_type": "stream",
     "text": [
      "11.350062186067705\n",
      "8.277278556664449\n"
     ]
    }
   ],
   "source": [
    "one_b_call = opt.european_binomial_pricer(spot, strike, expiry, rate, div, vol, num, payoff=opt.call_payoff)\n",
    "print(one_b_call)\n",
    "one_b_put = opt.european_binomial_pricer(spot, strike, expiry, rate, div, vol, num, payoff=opt.put_payoff)\n",
    "print(one_b_put)"
   ]
  },
  {
   "cell_type": "markdown",
   "metadata": {},
   "source": [
    "* __(c)__ Verify that it works for both call and put options with $n = 3$. Compare against a hand-written solution. Use the same parameters as above in __(b)__."
   ]
  },
  {
   "cell_type": "code",
   "execution_count": 4,
   "metadata": {},
   "outputs": [
    {
     "name": "stdout",
     "output_type": "stream",
     "text": [
      "10.044685209190389\n",
      "6.9719015797871595\n"
     ]
    }
   ],
   "source": [
    "num = 3\n",
    "one_c_call = opt.european_binomial_pricer(spot, strike, expiry, rate, div, vol, num, payoff=opt.call_payoff)\n",
    "print(one_c_call)\n",
    "one_c_put = opt.european_binomial_pricer(spot, strike, expiry, rate, div, vol, num, payoff=opt.put_payoff)\n",
    "print(one_c_put)"
   ]
  },
  {
   "cell_type": "markdown",
   "metadata": {},
   "source": [
    "* __(d)__ What happens if you set $n = 200$? Solve for both the call and put prices. __DO NOT__ try to solve by hand! Again, use the parameter values from __(b)__."
   ]
  },
  {
   "cell_type": "code",
   "execution_count": 5,
   "metadata": {},
   "outputs": [
    {
     "name": "stdout",
     "output_type": "stream",
     "text": [
      "9.471909781165479\n",
      "6.399126151760387\n"
     ]
    }
   ],
   "source": [
    "num = 200\n",
    "one_d_call = opt.european_binomial_pricer(spot, strike, expiry, rate, div, vol, num, payoff=opt.call_payoff)\n",
    "print(one_d_call)\n",
    "one_d_put = opt.european_binomial_pricer(spot, strike, expiry, rate, div, vol, num, payoff=opt.put_payoff)\n",
    "print(one_d_put)"
   ]
  },
  {
   "cell_type": "markdown",
   "metadata": {},
   "source": [
    "### __Problem 2__\n",
    "\n",
    "* __(a)__ Use the functions included in `options.py` to price the call and put option from __Problem 1__ part __(b)__ with the Black-Scholes option pricing model. See McDonald Chapter 12 for background on the Black-Scholes option pricing model."
   ]
  },
  {
   "cell_type": "code",
   "execution_count": 10,
   "metadata": {},
   "outputs": [
    {
     "data": {
      "text/plain": [
       "9.47455279837039"
      ]
     },
     "execution_count": 10,
     "metadata": {},
     "output_type": "execute_result"
    }
   ],
   "source": [
    "opt.black_scholes_call(spot, strike, expiry, rate, div, vol)"
   ]
  },
  {
   "cell_type": "code",
   "execution_count": 11,
   "metadata": {},
   "outputs": [],
   "source": [
    "spot = 100\n",
    "strike = 105\n",
    "rate = .08\n",
    "expiry = 1\n",
    "div = 0.\n",
    "vol = .2\n",
    "num = 1"
   ]
  },
  {
   "cell_type": "code",
   "execution_count": 12,
   "metadata": {},
   "outputs": [
    {
     "name": "stdout",
     "output_type": "stream",
     "text": [
      "9.47455279837039\n",
      "6.401769168967142\n"
     ]
    }
   ],
   "source": [
    "two_a_call = opt.black_scholes_call(spot, strike, expiry, rate, div, vol)\n",
    "print(two_a_call)\n",
    "two_a_put = opt.black_scholes_put(spot, strike, expiry, rate, div, vol)\n",
    "print(two_a_put)"
   ]
  },
  {
   "cell_type": "markdown",
   "metadata": {},
   "source": [
    "* __(b)__ Use the `european_binomial_pricer` function with the following values: $n = 20, 40, 60, 80, \\ldots, 200$ (i.e. increment by $20$). Compare to the Black-Scholes prices obtained above. Make a table to report the results. \n",
    "          What can you say about the European Bimomial model relative to the Black-Scholes model? Discuss the convergence of the European Bimomial to the Black-Scholes model."
   ]
  },
  {
   "cell_type": "code",
   "execution_count": 13,
   "metadata": {},
   "outputs": [
    {
     "name": "stdout",
     "output_type": "stream",
     "text": [
      "     Call Premium  Put Premium\n",
      "20       9.551546     6.478762\n",
      "40       9.522373     6.449590\n",
      "60       9.503781     6.430997\n",
      "80       9.491053     6.418269\n",
      "100      9.481664     6.408881\n",
      "120      9.474370     6.401586\n",
      "140      9.468488     6.395704\n",
      "160      9.463611     6.390827\n",
      "180      9.467510     6.394726\n",
      "200      9.471910     6.399126\n"
     ]
    }
   ],
   "source": [
    "num_steps = [num for num in range(20,201,20)]\n",
    "call_premium = []\n",
    "put_premium = []\n",
    "\n",
    "for num in range(20,201,20):\n",
    "    call_premium.append(opt.european_binomial_pricer(spot, strike, expiry, rate, div, vol, num, payoff=opt.call_payoff))\n",
    "    put_premium.append(opt.european_binomial_pricer(spot, strike, expiry, rate, div, vol, num, payoff=opt.put_payoff))\n",
    "\n",
    "table_two_b = pd.DataFrame({'Call Premium': call_premium, 'Put Premium': put_premium}, index=num_steps)\n",
    "print(table_two_b)"
   ]
  },
  {
   "cell_type": "code",
   "execution_count": null,
   "metadata": {},
   "outputs": [],
   "source": []
  }
 ],
 "metadata": {
  "kernelspec": {
   "display_name": "Python 3",
   "language": "python",
   "name": "python3"
  },
  "language_info": {
   "codemirror_mode": {
    "name": "ipython",
    "version": 3
   },
   "file_extension": ".py",
   "mimetype": "text/x-python",
   "name": "python",
   "nbconvert_exporter": "python",
   "pygments_lexer": "ipython3",
   "version": "3.8.3"
  }
 },
 "nbformat": 4,
 "nbformat_minor": 4
}
