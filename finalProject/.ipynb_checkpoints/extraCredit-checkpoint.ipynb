{
 "cells": [
  {
   "cell_type": "code",
   "execution_count": 3,
   "metadata": {},
   "outputs": [],
   "source": [
    "import options as opt\n",
    "import numpy as np\n",
    "from typing import Callable"
   ]
  },
  {
   "cell_type": "code",
   "execution_count": null,
   "metadata": {},
   "outputs": [],
   "source": [
    "spot = 41.0\n",
    "strike = 40.0\n",
    "expiry = 1\n",
    "vol = 0.3\n",
    "rate = 0.08\n",
    "div = 0.0\n",
    "num  200"
   ]
  },
  {
   "cell_type": "code",
   "execution_count": null,
   "metadata": {},
   "outputs": [],
   "source": [
    "binomial_call = opt.european_binomial_pricer(spot, strike, expiry, rate, div, vol, num, payoff=opt.call_payoff)\n",
    "binomial_put = opt.european_binomial_pricer(spot, strike, expiry, rate, div, vol, num, payoff=opt.put_payoff)\n",
    "black_scholes_call = opt.black_scholes_call(spot, strike, expiry, rate, div, vol)\n",
    "black_scholes_put = opt.black_scholes_put(spot, strike, expiry, rate, div, vol)"
   ]
  },
  {
   "cell_type": "code",
   "execution_count": null,
   "metadata": {},
   "outputs": [],
   "source": [
    "def monte_carlo_sim(spot:float, strike:float, expiry: int, vol:float, rate:float, div:float, payoff: Callable, M:int):\n",
    "\n",
    "    discounted_means = np.zeros(len(M))\n",
    "    standard_errors = np.zeros(len(M))\n",
    "\n",
    "    # call simulation function for M paths\n",
    "    for num_simulations in M:\n",
    "        terminal_prices = np.zeros(M)\n",
    "        # get M binomial paths\n",
    "        for i in range(num_simulations):\n",
    "            terminal_prices[i] = bionomial_path()\n",
    "\n",
    "        option_payoffs = payoff(terminal_prices)\n",
    "\n",
    "        average_payoff = np.mean(option_payoffs)\n",
    "        standard_error_payoff = np.std(option_payoffs) / np.sqrt(M)\n",
    "\n",
    "        discount_factor = np.exp(-rate * expiry)\n",
    "        discounted_mean = average_payoff * discount_factor\n",
    "\n",
    "        discounted_means[i] = discounted_mean\n",
    "        standard_errors[i] = standard_error_payoff\n",
    "\n",
    "    results = pd.DataFrame({'Mean':discounted_means, 'Standard Error':standard_errors}, index=M)\n",
    "    return(results)"
   ]
  },
  {
   "cell_type": "code",
   "execution_count": null,
   "metadata": {},
   "outputs": [],
   "source": [
    "M = [10000, 25000, 50000, 75000, 100000]\n",
    "monte_carlo_call = monte_carlo_sim(spot, strike, expiry, vol, rate, div, opt.call_payoff, M)\n",
    "monte_carlo_put = monte_carlo_sim(spot, strike, expiry, vol, rate, div, opt.put_payoff, M)"
   ]
  },
  {
   "cell_type": "markdown",
   "metadata": {},
   "source": [
    "# Conclusion"
   ]
  },
  {
   "cell_type": "code",
   "execution_count": null,
   "metadata": {},
   "outputs": [],
   "source": []
  }
 ],
 "metadata": {
  "kernelspec": {
   "display_name": "Python 3",
   "language": "python",
   "name": "python3"
  },
  "language_info": {
   "codemirror_mode": {
    "name": "ipython",
    "version": 3
   },
   "file_extension": ".py",
   "mimetype": "text/x-python",
   "name": "python",
   "nbconvert_exporter": "python",
   "pygments_lexer": "ipython3",
   "version": "3.7.3"
  }
 },
 "nbformat": 4,
 "nbformat_minor": 4
}
