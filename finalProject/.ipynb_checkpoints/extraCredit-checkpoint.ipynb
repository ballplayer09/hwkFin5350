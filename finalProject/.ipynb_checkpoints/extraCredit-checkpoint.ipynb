{
 "cells": [
  {
   "cell_type": "code",
   "execution_count": null,
   "metadata": {},
   "outputs": [],
   "source": [
    "import options as opt\n",
    "import numpy as np\n",
    "from typing import Callable\n",
    "import pandas as pd"
   ]
  },
  {
   "cell_type": "code",
   "execution_count": 2,
   "metadata": {},
   "outputs": [],
   "source": [
    "spot = 41.0\n",
    "strike = 40.0\n",
    "expiry = 1\n",
    "vol = 0.3\n",
    "rate = 0.08\n",
    "div = 0.0\n",
    "num = 200"
   ]
  },
  {
   "cell_type": "code",
   "execution_count": 3,
   "metadata": {},
   "outputs": [],
   "source": [
    "binomial_call = opt.european_binomial_pricer(spot, strike, expiry, rate, div, vol, num, payoff=opt.call_payoff)\n",
    "binomial_put = opt.european_binomial_pricer(spot, strike, expiry, rate, div, vol, num, payoff=opt.put_payoff)\n",
    "black_scholes_call = opt.black_scholes_call(spot, strike, expiry, rate, div, vol)\n",
    "black_scholes_put = opt.black_scholes_put(spot, strike, expiry, rate, div, vol)"
   ]
  },
  {
   "cell_type": "code",
   "execution_count": 8,
   "metadata": {},
   "outputs": [],
   "source": [
    "def monte_carlo_sim(spot:float, strike:float, expiry: int, vol:float, rate:float, div:float, payoff: Callable, M:int):\n",
    "    \n",
    "    # initialize space to save the terminal price at the end of each binomial path\n",
    "    terminal_prices = np.zeros(M)\n",
    "\n",
    "    # get M binomial paths\n",
    "    for i in range(M):\n",
    "        terminal_prices[i] = opt.binomial_path(spot, expiry, rate, div, vol, num)[-1]\n",
    "\n",
    "    option_payoffs = payoff(terminal_prices, strike)\n",
    "    average_payoff = np.mean(option_payoffs)\n",
    "    standard_error_payoff = np.std(option_payoffs) / np.sqrt(M)\n",
    "\n",
    "    discount_factor = np.exp(-rate * expiry)\n",
    "    discounted_mean = average_payoff * discount_factor\n",
    "\n",
    "    return(discounted_mean, standard_error_payoff)"
   ]
  },
  {
   "cell_type": "code",
   "execution_count": 14,
   "metadata": {},
   "outputs": [],
   "source": [
    "M = [10000, 25000, 50000, 75000, 100000]\n",
    "call_mean_premiums = np.zeros(len(M))\n",
    "call_standard_error = np.zeros(len(M))\n",
    "put_mean_premiums = np.zeros(len(M))\n",
    "put_standard_error = np.zeros(len(M))\n",
    "\n",
    "# call the monte carlo simulation for each number of iterations and store results\n",
    "for i in range(len(M)):\n",
    "    \n",
    "    call_mean_premiums[i], call_standard_error[i] = monte_carlo_sim(spot, strike, expiry, vol, rate, div, opt.call_payoff, M[i])\n",
    "    put_mean_premiums[i], put_standard_error[i] = monte_carlo_put = monte_carlo_sim(spot, strike, expiry, vol, rate, div, opt.put_payoff, M[i])"
   ]
  },
  {
   "cell_type": "markdown",
   "metadata": {},
   "source": [
    "# Conclusion"
   ]
  },
  {
   "cell_type": "code",
   "execution_count": 17,
   "metadata": {},
   "outputs": [
    {
     "name": "stdout",
     "output_type": "stream",
     "text": [
      "        Call Mean  Call Std Error  Put Mean  Put Std Error\n",
      "10000    6.878615        0.106216  2.906466       0.049254\n",
      "25000    6.911109        0.066780  2.869720       0.031084\n",
      "50000    6.943047        0.047596  2.872214       0.021999\n",
      "75000    6.906247        0.038735  2.883620       0.017988\n",
      "100000   6.951006        0.033719  2.901218       0.015621\n"
     ]
    }
   ],
   "source": [
    "results = pd.DataFrame({'Call Mean': call_mean_premiums, \"Call Std Error\": call_standard_error, 'Put Mean': put_mean_premiums, \"Put Std Error\": put_standard_error}, index=M)\n",
    "print(results)"
   ]
  },
  {
   "cell_type": "code",
   "execution_count": 19,
   "metadata": {},
   "outputs": [
    {
     "name": "stdout",
     "output_type": "stream",
     "text": [
      "binomial model call price was: 6.966101170227521 and the put price was 2.890755025692191\n",
      "black scholes model call price was: 6.960998922548743 and the put price was 2.8856527780141707\n"
     ]
    }
   ],
   "source": [
    "print(f\"binomial model call price was: {binomial_call} and the put price was {binomial_put}\")\n",
    "print(f\"black scholes model call price was: {black_scholes_call} and the put price was {black_scholes_put}\")"
   ]
  },
  {
   "cell_type": "markdown",
   "metadata": {},
   "source": [
    "The monte carlo simulations provide a very close approximate to the answers provided by the binomial and Black-Scholes models"
   ]
  }
 ],
 "metadata": {
  "kernelspec": {
   "display_name": "Python 3",
   "language": "python",
   "name": "python3"
  },
  "language_info": {
   "codemirror_mode": {
    "name": "ipython",
    "version": 3
   },
   "file_extension": ".py",
   "mimetype": "text/x-python",
   "name": "python",
   "nbconvert_exporter": "python",
   "pygments_lexer": "ipython3",
   "version": "3.7.3"
  }
 },
 "nbformat": 4,
 "nbformat_minor": 4
}
