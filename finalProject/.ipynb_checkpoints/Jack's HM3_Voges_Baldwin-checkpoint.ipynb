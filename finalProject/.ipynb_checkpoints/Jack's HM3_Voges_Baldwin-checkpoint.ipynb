{
 "cells": [
  {
   "cell_type": "markdown",
   "metadata": {},
   "source": [
    "## Finance 5350: Computational Financial Modeling\n",
    "### Homework 3: Binary Option Pricing\n",
    "### Jack Baldwin\n",
    "### Ryan Voges"
   ]
  },
  {
   "cell_type": "code",
   "execution_count": 1,
   "metadata": {},
   "outputs": [],
   "source": [
    "import math as m\n",
    "import numpy as np"
   ]
  },
  {
   "cell_type": "markdown",
   "metadata": {},
   "source": [
    "Setting up the functions"
   ]
  },
  {
   "cell_type": "code",
   "execution_count": 57,
   "metadata": {},
   "outputs": [],
   "source": [
    "def CallOptionPrice(S, K, r, T, delta, u, d, n):\n",
    "    h = T/n\n",
    "    Sd = d*S\n",
    "    Su = u*S\n",
    "    Cu = np.maximum(0, Su - K)\n",
    "    Cd = np.maximum(0, Sd - K)\n",
    "    Deltacall = (m.exp(-delta*h))*(Cu-Cd)/(S*(u-d))\n",
    "    Bcall = (m.exp(-r*h))*(u*Cd - d*Cu)/(u-d)\n",
    "    CallOptionCost = (Deltacall*S) + Bcall\n",
    "    print(f\"The delta of the call is {Deltacall:,.2f}\")\n",
    "    print(f\"The B of the call is {Bcall:,.2f}\")\n",
    "    print(f\"The cost of the option is {CallOptionCost:,.3f}\")\n",
    "    return CallOptionCost\n",
    "    \n",
    "def PutOptionPrice(S, K, r, T, delta, u, d, n):\n",
    "    h = T/n\n",
    "    Sd = d*S\n",
    "    Su = u*S\n",
    "    Cu = np.maximum(0, K - Su)\n",
    "    Cd = np.maximum(0, K - Sd)\n",
    "    DeltaPut = (m.exp(-delta*h))*(Cu-Cd)/(S*(u-d))\n",
    "    BPut = (m.exp(-r*h))*(u*Cd - d*Cu)/(u-d)\n",
    "    PutOptionCost = (DeltaPut*S) + BPut\n",
    "    print(f\"The delta of the call is {DeltaPut:,.2f}\")\n",
    "    print(f\"The B of the call is {BPut:,.2f}\")\n",
    "    print(f\"The cost of the option is {PutOptionCost:,.3f}\")\n",
    "    return PutOptionCost\n",
    "\n",
    "# Still a working progress\n",
    "def Arbitrage(OptionCost, CurrentPrice):\n",
    "    if OptionCost > CurrentPrice:\n",
    "        print(f\"You should buy the option selling at ${CurrentPrice} and write the option at ${OptionCost:,.3f}\")\n",
    "    elif OptionCost < CurrentPrice: \n",
    "        print(f\"You should write the option selling at ${CurrentPrice} and buy the option at ${OptionCost:,.3f}\")\n",
    "    else:\n",
    "        print(f\"There is no arbitrage opportunity.\")"
   ]
  },
  {
   "cell_type": "markdown",
   "metadata": {},
   "source": [
    "### Problem 10.1\n",
    "#### Part a."
   ]
  },
  {
   "cell_type": "code",
   "execution_count": 47,
   "metadata": {},
   "outputs": [
    {
     "name": "stdout",
     "output_type": "stream",
     "text": [
      "The delta of the call is 0.50\n",
      "The B of the call is -38.43\n",
      "The cost of the option is 11.568\n"
     ]
    },
    {
     "data": {
      "text/plain": [
       "11.568422433907074"
      ]
     },
     "execution_count": 47,
     "metadata": {},
     "output_type": "execute_result"
    }
   ],
   "source": [
    "CallOptionPrice(100, 105, .08, .5, 0, 1.3, 0.8, 1)"
   ]
  },
  {
   "cell_type": "markdown",
   "metadata": {},
   "source": [
    "#### Part b."
   ]
  },
  {
   "cell_type": "code",
   "execution_count": 48,
   "metadata": {},
   "outputs": [
    {
     "name": "stdout",
     "output_type": "stream",
     "text": [
      "The delta of the call is -0.50\n",
      "The B of the call is 62.45\n",
      "The cost of the option is 12.451\n"
     ]
    },
    {
     "data": {
      "text/plain": [
       "12.451313544901005"
      ]
     },
     "execution_count": 48,
     "metadata": {},
     "output_type": "execute_result"
    }
   ],
   "source": [
    "PutOptionPrice(100, 105, .08, .5, 0, 1.3, 0.8, 1)"
   ]
  },
  {
   "cell_type": "markdown",
   "metadata": {},
   "source": [
    "### Problem 10.2\n",
    "#### Part a."
   ]
  },
  {
   "cell_type": "code",
   "execution_count": 50,
   "metadata": {},
   "outputs": [
    {
     "name": "stdout",
     "output_type": "stream",
     "text": [
      "The delta of the call is 0.70\n",
      "The B of the call is -53.80\n",
      "The cost of the option is 16.196\n"
     ]
    },
    {
     "data": {
      "text/plain": [
       "16.195791407469905"
      ]
     },
     "execution_count": 50,
     "metadata": {},
     "output_type": "execute_result"
    }
   ],
   "source": [
    "c2 = CallOptionPrice(100, 95, .08, .5, 0, 1.3, 0.8, 1)\n",
    "c2"
   ]
  },
  {
   "cell_type": "markdown",
   "metadata": {},
   "source": [
    "#### Part b."
   ]
  },
  {
   "cell_type": "code",
   "execution_count": 54,
   "metadata": {},
   "outputs": [
    {
     "name": "stdout",
     "output_type": "stream",
     "text": [
      "You should write the option selling at $17 and buy the option at $16.196\n"
     ]
    }
   ],
   "source": [
    "Arbitrage(c2, 17)"
   ]
  },
  {
   "cell_type": "markdown",
   "metadata": {},
   "source": [
    "#### Part c."
   ]
  },
  {
   "cell_type": "code",
   "execution_count": 55,
   "metadata": {},
   "outputs": [
    {
     "name": "stdout",
     "output_type": "stream",
     "text": [
      "You should buy the option selling at $15.5 and write the option at $16.196\n"
     ]
    }
   ],
   "source": [
    "Arbitrage(c2, 15.50)"
   ]
  },
  {
   "cell_type": "markdown",
   "metadata": {},
   "source": [
    "### Problem 10.3\n",
    "#### Part a."
   ]
  },
  {
   "cell_type": "code",
   "execution_count": 58,
   "metadata": {},
   "outputs": [
    {
     "name": "stdout",
     "output_type": "stream",
     "text": [
      "The delta of the call is -0.30\n",
      "The B of the call is 37.47\n",
      "The cost of the option is 7.471\n"
     ]
    },
    {
     "data": {
      "text/plain": [
       "7.4707881269406045"
      ]
     },
     "execution_count": 58,
     "metadata": {},
     "output_type": "execute_result"
    }
   ],
   "source": [
    "p3 = PutOptionPrice(100, 95, .08, .5, 0, 1.3, 0.8, 1)\n",
    "p3"
   ]
  },
  {
   "cell_type": "markdown",
   "metadata": {},
   "source": [
    "#### Part b."
   ]
  },
  {
   "cell_type": "code",
   "execution_count": 59,
   "metadata": {},
   "outputs": [
    {
     "name": "stdout",
     "output_type": "stream",
     "text": [
      "You should write the option selling at $8 and buy the option at $7.471\n"
     ]
    }
   ],
   "source": [
    "Arbitrage(p3, 8)"
   ]
  },
  {
   "cell_type": "markdown",
   "metadata": {},
   "source": [
    "#### Part c."
   ]
  },
  {
   "cell_type": "code",
   "execution_count": 60,
   "metadata": {},
   "outputs": [
    {
     "name": "stdout",
     "output_type": "stream",
     "text": [
      "You should buy the option selling at $6 and write the option at $7.471\n"
     ]
    }
   ],
   "source": [
    "Arbitrage(p3, 6)"
   ]
  }
 ],
 "metadata": {
  "kernelspec": {
   "display_name": "Python 3",
   "language": "python",
   "name": "python3"
  },
  "language_info": {
   "codemirror_mode": {
    "name": "ipython",
    "version": 3
   },
   "file_extension": ".py",
   "mimetype": "text/x-python",
   "name": "python",
   "nbconvert_exporter": "python",
   "pygments_lexer": "ipython3",
   "version": "3.8.3"
  }
 },
 "nbformat": 4,
 "nbformat_minor": 4
}
