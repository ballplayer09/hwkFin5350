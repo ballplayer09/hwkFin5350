{
 "cells": [
  {
   "cell_type": "code",
   "execution_count": 1,
   "metadata": {},
   "outputs": [],
   "source": [
    "import math\n",
    "import pandas as pd"
   ]
  },
  {
   "cell_type": "code",
   "execution_count": 2,
   "metadata": {},
   "outputs": [],
   "source": [
    "def volatility(data, close_column_title):\n",
    "    # data should be passed in the default format exported by yahoo finance\n",
    "    \n",
    "    \n",
    "    data['LaggedClose'] = data[close_column_title].shift(1)\n",
    "    data['ContCompoundReturn'] = [math.log(data[close_column_title][i] / data.LaggedClose[i]) for i in range(len(data.Date))]\n",
    "    \n",
    "    time_period_volatility = data.ContCompoundReturn.std()"
   ]
  },
  {
   "cell_type": "code",
   "execution_count": null,
   "metadata": {},
   "outputs": [],
   "source": [
    "# test the function with SPY data\n",
    "\n",
    "spy_data = pd.read_csv('SPY.csv')"
   ]
  }
 ],
 "metadata": {
  "kernelspec": {
   "display_name": "Python 3",
   "language": "python",
   "name": "python3"
  },
  "language_info": {
   "codemirror_mode": {
    "name": "ipython",
    "version": 3
   },
   "file_extension": ".py",
   "mimetype": "text/x-python",
   "name": "python",
   "nbconvert_exporter": "python",
   "pygments_lexer": "ipython3",
   "version": "3.7.3"
  }
 },
 "nbformat": 4,
 "nbformat_minor": 4
}
