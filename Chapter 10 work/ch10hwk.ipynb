{
 "cells": [
  {
   "cell_type": "markdown",
   "metadata": {},
   "source": [
    "## Chapter 10 Problems"
   ]
  },
  {
   "cell_type": "markdown",
   "metadata": {},
   "source": [
    "## Functions"
   ]
  },
  {
   "cell_type": "code",
   "execution_count": 1,
   "metadata": {},
   "outputs": [],
   "source": [
    "import math"
   ]
  },
  {
   "cell_type": "code",
   "execution_count": 2,
   "metadata": {},
   "outputs": [],
   "source": [
    "# Delta\n",
    "def calc_delta(t, k, u, d, s, δ = 0.0, call = True) -> float:\n",
    "    \n",
    "    if call:\n",
    "        cu = (s * u) - k\n",
    "        cd = (s * d ) - k\n",
    "        if cd < 0:\n",
    "            cd = 0\n",
    "    else:\n",
    "        # logic for a put option\n",
    "        cu = k - (s * u)\n",
    "        cd = k - (s * d)\n",
    "        if cu < 0:\n",
    "            cu = 0\n",
    "        \n",
    "    delta = (math.e ** (-δ * (t))) * ((cu - cd)/(s * (u - d)))\n",
    "    return delta\n",
    "\n",
    "# B\n",
    "def calculate_b(r, k, s, u, d, t, call=True) -> float:\n",
    "    \n",
    "    if call:\n",
    "        cu = (s * u) - k\n",
    "        cd = (s * d ) - k\n",
    "        if cd < 0:\n",
    "            cd = 0\n",
    "    else:\n",
    "        # logic for a put option\n",
    "        cu = k - (s * u)\n",
    "        cd = k - (s * d)\n",
    "        if cu < 0:\n",
    "            cu = 0\n",
    "        \n",
    "    b = (math.e ** (-r * t)) * ((u * cd - d * cu) / (u - d))\n",
    "    \n",
    "    return(b)\n",
    "\n",
    "def calculate_premium(s, delta, b):\n",
    "    premium = (delta * s) + b\n",
    "    return premium"
   ]
  },
  {
   "cell_type": "markdown",
   "metadata": {},
   "source": [
    "### 10.1"
   ]
  },
  {
   "cell_type": "markdown",
   "metadata": {},
   "source": [
    "### a. "
   ]
  },
  {
   "cell_type": "code",
   "execution_count": 3,
   "metadata": {},
   "outputs": [],
   "source": [
    "# Assumptions\n",
    "s = 100\n",
    "k = 105\n",
    "r = 0.08\n",
    "t = 0.5\n",
    "δ = 0.0 \n",
    "u = 1.3\n",
    "d = 0.8\n",
    "n = 1.0"
   ]
  },
  {
   "cell_type": "code",
   "execution_count": 4,
   "metadata": {},
   "outputs": [
    {
     "name": "stdout",
     "output_type": "stream",
     "text": [
      "0.5\n"
     ]
    }
   ],
   "source": [
    "delta = calc_delta(t,k,u,d,s)\n",
    "print(delta)"
   ]
  },
  {
   "cell_type": "code",
   "execution_count": 5,
   "metadata": {},
   "outputs": [
    {
     "name": "stdout",
     "output_type": "stream",
     "text": [
      "-38.431577566092926\n"
     ]
    }
   ],
   "source": [
    "b = calculate_b(r, k, s, u, d, t)\n",
    "print(b)"
   ]
  },
  {
   "cell_type": "code",
   "execution_count": 6,
   "metadata": {},
   "outputs": [
    {
     "data": {
      "text/plain": [
       "11.568422433907074"
      ]
     },
     "execution_count": 6,
     "metadata": {},
     "output_type": "execute_result"
    }
   ],
   "source": [
    "calculate_premium(s, delta, b)"
   ]
  },
  {
   "cell_type": "markdown",
   "metadata": {},
   "source": [
    "### b."
   ]
  },
  {
   "cell_type": "code",
   "execution_count": 7,
   "metadata": {},
   "outputs": [],
   "source": [
    "# Assumptions\n",
    "s = 100\n",
    "k = 105\n",
    "r = 0.08\n",
    "t = 0.5\n",
    "δ = 0.0 \n",
    "u = 1.3\n",
    "d = 0.8\n",
    "n = 1.0"
   ]
  },
  {
   "cell_type": "code",
   "execution_count": 8,
   "metadata": {},
   "outputs": [
    {
     "name": "stdout",
     "output_type": "stream",
     "text": [
      "-0.5\n",
      "62.451313544901005\n"
     ]
    },
    {
     "data": {
      "text/plain": [
       "12.451313544901005"
      ]
     },
     "execution_count": 8,
     "metadata": {},
     "output_type": "execute_result"
    }
   ],
   "source": [
    "delta = calc_delta(t,k,u,d,s,call=False)\n",
    "print(delta)\n",
    "\n",
    "b = calculate_b(r, k, s, u, d, t, call=False)\n",
    "print(b)\n",
    "\n",
    "calculate_premium(s, delta, b)"
   ]
  },
  {
   "cell_type": "markdown",
   "metadata": {},
   "source": [
    "## 10.2"
   ]
  },
  {
   "cell_type": "markdown",
   "metadata": {},
   "source": [
    "### a."
   ]
  },
  {
   "cell_type": "code",
   "execution_count": 9,
   "metadata": {},
   "outputs": [],
   "source": [
    "# Assumptions\n",
    "s = 100\n",
    "k = 95\n",
    "r = 0.08\n",
    "t = 0.5\n",
    "δ = 0\n",
    "u = 1.3\n",
    "d = 0.8\n",
    "n = 1"
   ]
  },
  {
   "cell_type": "code",
   "execution_count": 10,
   "metadata": {},
   "outputs": [],
   "source": [
    "# Price Function\n",
    "def price (t,k,u,d,s,r,call = True) -> float: \n",
    "    \n",
    "    delta = calc_delta(t,k,u,d,s,call)\n",
    "    print(delta)\n",
    "    \n",
    "    b = calculate_b(r, k, s, u, d, t,call)\n",
    "    print(b)\n",
    "\n",
    "    return(calculate_premium(s, delta, b))"
   ]
  },
  {
   "cell_type": "code",
   "execution_count": 11,
   "metadata": {},
   "outputs": [
    {
     "name": "stdout",
     "output_type": "stream",
     "text": [
      "0.7\n",
      "37.470788126940604\n"
     ]
    },
    {
     "data": {
      "text/plain": [
       "107.4707881269406"
      ]
     },
     "execution_count": 11,
     "metadata": {},
     "output_type": "execute_result"
    }
   ],
   "source": [
    "price(t, k, u, d, s, r, call = False)"
   ]
  },
  {
   "cell_type": "code",
   "execution_count": null,
   "metadata": {},
   "outputs": [],
   "source": []
  }
 ],
 "metadata": {
  "kernelspec": {
   "display_name": "Python 3",
   "language": "python",
   "name": "python3"
  },
  "language_info": {
   "codemirror_mode": {
    "name": "ipython",
    "version": 3
   },
   "file_extension": ".py",
   "mimetype": "text/x-python",
   "name": "python",
   "nbconvert_exporter": "python",
   "pygments_lexer": "ipython3",
   "version": "3.8.3"
  }
 },
 "nbformat": 4,
 "nbformat_minor": 4
}
