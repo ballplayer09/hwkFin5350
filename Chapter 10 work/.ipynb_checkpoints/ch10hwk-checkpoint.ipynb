{
 "cells": [
  {
   "cell_type": "markdown",
   "metadata": {},
   "source": [
    "## Chapter 10 Problems"
   ]
  },
  {
   "cell_type": "markdown",
   "metadata": {},
   "source": [
    "## Functions"
   ]
  },
  {
   "cell_type": "code",
   "execution_count": 1,
   "metadata": {},
   "outputs": [],
   "source": [
    "import math\n",
    "import pandas as pd\n",
    "from datetime import datetime"
   ]
  },
  {
   "cell_type": "code",
   "execution_count": 2,
   "metadata": {},
   "outputs": [],
   "source": [
    "# Delta\n",
    "def calc_delta(t, k, u, d, s, δ, call) -> float:\n",
    "    \n",
    "    if call:\n",
    "        cu = (s * u) - k\n",
    "        cd = (s * d ) - k\n",
    "        if cd < 0:\n",
    "            cd = 0\n",
    "    else:\n",
    "        # logic for a put option\n",
    "        cu = k - (s * u)\n",
    "        cd = k - (s * d)\n",
    "        if cu < 0:\n",
    "            cu = 0\n",
    "        \n",
    "    delta = (math.e ** (-δ * (t))) * ((cu - cd)/(s * (u - d)))\n",
    "    return delta\n",
    "\n",
    "# B\n",
    "def calculate_b(r, k, s, u, d, t, call) -> float:\n",
    "    \n",
    "    if call:\n",
    "        cu = (s * u) - k\n",
    "        cd = (s * d ) - k\n",
    "        if cd < 0:\n",
    "            cd = 0\n",
    "    else:\n",
    "        # logic for a put option\n",
    "        cu = k - (s * u)\n",
    "        cd = k - (s * d)\n",
    "        if cu < 0:\n",
    "            cu = 0\n",
    "        \n",
    "    b = (math.e ** (-r * t)) * ((u * cd - d * cu) / (u - d))\n",
    "    \n",
    "    return(b)\n",
    "\n",
    "# Premium\n",
    "def calculate_premium(s, delta, b):\n",
    "    premium = (delta * s) + b\n",
    "    return premium\n",
    "\n",
    "\n",
    "# Price Function\n",
    "def price(t,k,u,d,s,r,call=True):\n",
    "        \n",
    "    delta = calc_delta(t,k,u,d,s,δ,call)\n",
    "    print(delta)\n",
    "    \n",
    "    b = calculate_b(r, k, s, u, d, t, call)\n",
    "    print(b)\n",
    "\n",
    "    prem = calculate_premium(s, delta, b)\n",
    "    print(prem)\n",
    "    \n",
    "    return(prem)"
   ]
  },
  {
   "cell_type": "markdown",
   "metadata": {},
   "source": [
    "### 10.1"
   ]
  },
  {
   "cell_type": "markdown",
   "metadata": {},
   "source": [
    "### a. "
   ]
  },
  {
   "cell_type": "code",
   "execution_count": 3,
   "metadata": {},
   "outputs": [],
   "source": [
    "# Assumptions\n",
    "s = 100\n",
    "k = 105\n",
    "r = 0.08\n",
    "t = 0.5\n",
    "δ = 0.0 \n",
    "u = 1.3\n",
    "d = 0.8\n",
    "n = 1.0"
   ]
  },
  {
   "cell_type": "code",
   "execution_count": 4,
   "metadata": {},
   "outputs": [
    {
     "name": "stdout",
     "output_type": "stream",
     "text": [
      "0.5\n"
     ]
    }
   ],
   "source": [
    "delta = calc_delta(t,k,u,d,s,δ,call=True)\n",
    "print(delta)"
   ]
  },
  {
   "cell_type": "code",
   "execution_count": 5,
   "metadata": {},
   "outputs": [
    {
     "name": "stdout",
     "output_type": "stream",
     "text": [
      "-38.431577566092926\n"
     ]
    }
   ],
   "source": [
    "b = calculate_b(r, k, s, u, d, t,call=True)\n",
    "print(b)"
   ]
  },
  {
   "cell_type": "code",
   "execution_count": 6,
   "metadata": {},
   "outputs": [
    {
     "data": {
      "text/plain": [
       "11.568422433907074"
      ]
     },
     "execution_count": 6,
     "metadata": {},
     "output_type": "execute_result"
    }
   ],
   "source": [
    "calculate_premium(s, delta, b)"
   ]
  },
  {
   "cell_type": "code",
   "execution_count": 7,
   "metadata": {},
   "outputs": [
    {
     "name": "stdout",
     "output_type": "stream",
     "text": [
      "0.5\n",
      "-38.431577566092926\n",
      "11.568422433907074\n"
     ]
    },
    {
     "data": {
      "text/plain": [
       "11.568422433907074"
      ]
     },
     "execution_count": 7,
     "metadata": {},
     "output_type": "execute_result"
    }
   ],
   "source": [
    "price(t,k,u,d,s,r,call=True)"
   ]
  },
  {
   "cell_type": "markdown",
   "metadata": {},
   "source": [
    "### b."
   ]
  },
  {
   "cell_type": "code",
   "execution_count": 8,
   "metadata": {},
   "outputs": [],
   "source": [
    "# Assumptions\n",
    "s = 100\n",
    "k = 105\n",
    "r = 0.08\n",
    "t = 0.5\n",
    "δ = 0.0 \n",
    "u = 1.3\n",
    "d = 0.8\n",
    "n = 1.0"
   ]
  },
  {
   "cell_type": "code",
   "execution_count": 9,
   "metadata": {},
   "outputs": [
    {
     "name": "stdout",
     "output_type": "stream",
     "text": [
      "-0.5\n",
      "62.451313544901005\n"
     ]
    },
    {
     "data": {
      "text/plain": [
       "12.451313544901005"
      ]
     },
     "execution_count": 9,
     "metadata": {},
     "output_type": "execute_result"
    }
   ],
   "source": [
    "delta = calc_delta(t,k,u,d,s,δ,call=False)\n",
    "print(delta)\n",
    "\n",
    "b = calculate_b(r, k, s, u, d, t, call=False)\n",
    "print(b)\n",
    "\n",
    "calculate_premium(s, delta, b)"
   ]
  },
  {
   "cell_type": "markdown",
   "metadata": {},
   "source": [
    "## 10.2"
   ]
  },
  {
   "cell_type": "markdown",
   "metadata": {},
   "source": [
    "### a."
   ]
  },
  {
   "cell_type": "code",
   "execution_count": 10,
   "metadata": {},
   "outputs": [],
   "source": [
    "# Assumptions\n",
    "s = 100\n",
    "k = 95\n",
    "r = 0.08\n",
    "t = 0.5\n",
    "δ = 0\n",
    "u = 1.3\n",
    "d = 0.8\n",
    "n = 1"
   ]
  },
  {
   "cell_type": "code",
   "execution_count": 11,
   "metadata": {},
   "outputs": [
    {
     "name": "stdout",
     "output_type": "stream",
     "text": [
      "0.7\n",
      "-53.804208592530095\n",
      "16.195791407469905\n"
     ]
    },
    {
     "data": {
      "text/plain": [
       "16.195791407469905"
      ]
     },
     "execution_count": 11,
     "metadata": {},
     "output_type": "execute_result"
    }
   ],
   "source": [
    "price(t, k, u, d, s, r, call=True)"
   ]
  },
  {
   "cell_type": "markdown",
   "metadata": {},
   "source": [
    "### b. and c."
   ]
  },
  {
   "cell_type": "markdown",
   "metadata": {},
   "source": [
    "How to arbitrage if price is $17? $15.5?\n",
    "\n",
    "If we observe a price of 17 dollars, then we would sell the option and purchase the replicating portfolio. This means that we would purchase 0.7 shares of the stock and borrow 53.804 dollars at the risk free rate.\n",
    "\n",
    "If we observe a price of 15.5 dollars then we would buy the option as it is undervalued. To hedge the risk that the option is worthless at expiry we will sell short 0.7 shares of the stock and lend 53.804 dollars at the risk free rate."
   ]
  },
  {
   "cell_type": "markdown",
   "metadata": {},
   "source": [
    "## 10.3"
   ]
  },
  {
   "cell_type": "markdown",
   "metadata": {},
   "source": [
    "### a."
   ]
  },
  {
   "cell_type": "code",
   "execution_count": 12,
   "metadata": {},
   "outputs": [],
   "source": [
    "# Assumptions\n",
    "s = 100\n",
    "k = 95\n",
    "r = 0.08\n",
    "t = 0.5\n",
    "δ = 0\n",
    "u = 1.3\n",
    "d = 0.8\n",
    "n = 1"
   ]
  },
  {
   "cell_type": "code",
   "execution_count": 13,
   "metadata": {},
   "outputs": [
    {
     "name": "stdout",
     "output_type": "stream",
     "text": [
      "-0.3\n",
      "37.470788126940604\n",
      "7.4707881269406045\n"
     ]
    },
    {
     "data": {
      "text/plain": [
       "7.4707881269406045"
      ]
     },
     "execution_count": 13,
     "metadata": {},
     "output_type": "execute_result"
    }
   ],
   "source": [
    "price(t, k, u, d, s, r, call=False)"
   ]
  },
  {
   "cell_type": "markdown",
   "metadata": {},
   "source": [
    "### b. and c."
   ]
  },
  {
   "cell_type": "markdown",
   "metadata": {},
   "source": [
    "$8? $6?\n",
    "\n",
    "If we observe a price of 8 dollars then we would sell the option and purchase the replicating portfolio of "
   ]
  },
  {
   "cell_type": "markdown",
   "metadata": {},
   "source": [
    "## 10.4"
   ]
  },
  {
   "cell_type": "code",
   "execution_count": 80,
   "metadata": {},
   "outputs": [],
   "source": [
    "# calculate volatility\n",
    "\n",
    "def volatility(data):\n",
    "    # data should be passed in the default format exported by yahoo finance\n",
    "    # will only work to calculate annual volatility\n",
    "    \n",
    "    if 'Year' in data.columns:\n",
    "        pass\n",
    "    else:\n",
    "        data['Year'] = [datetime.strptime(i, '%Y-%m-%d').year for i in data.Date]\n",
    "    \n",
    "    data['LaggedClose'] = data['Adj Close'].shift(1)\n",
    "    data['ContCompoundReturn'] = [math.log(data['Adj Close'][i] / data.LaggedClose[i]) for i in range(len(data.Date))]\n",
    "    \n",
    "    time_period_volatility = data.ContCompoundReturn.std()\n",
    "    \n",
    "    # calculate volatility for each year\n",
    "    groups = data.groupby('Year').std().ContCompoundReturn\n",
    "    volatility = [i * math.sqrt(52) for i in groups]\n",
    "    \n",
    "    years = data.Year.unique()\n",
    "    results = pd.DataFrame({\"Year\":years, \"Volatility\":volatility})\n",
    "    \n",
    "    return time_period_volatility, results"
   ]
  },
  {
   "cell_type": "code",
   "execution_count": 81,
   "metadata": {},
   "outputs": [
    {
     "name": "stdout",
     "output_type": "stream",
     "text": [
      "volatility in the full sample was 0.019009891400280622\n"
     ]
    },
    {
     "data": {
      "text/html": [
       "<div>\n",
       "<style scoped>\n",
       "    .dataframe tbody tr th:only-of-type {\n",
       "        vertical-align: middle;\n",
       "    }\n",
       "\n",
       "    .dataframe tbody tr th {\n",
       "        vertical-align: top;\n",
       "    }\n",
       "\n",
       "    .dataframe thead th {\n",
       "        text-align: right;\n",
       "    }\n",
       "</style>\n",
       "<table border=\"1\" class=\"dataframe\">\n",
       "  <thead>\n",
       "    <tr style=\"text-align: right;\">\n",
       "      <th></th>\n",
       "      <th>Year</th>\n",
       "      <th>Volatility</th>\n",
       "    </tr>\n",
       "  </thead>\n",
       "  <tbody>\n",
       "    <tr>\n",
       "      <th>0</th>\n",
       "      <td>2015</td>\n",
       "      <td>0.110022</td>\n",
       "    </tr>\n",
       "    <tr>\n",
       "      <th>1</th>\n",
       "      <td>2016</td>\n",
       "      <td>0.106171</td>\n",
       "    </tr>\n",
       "    <tr>\n",
       "      <th>2</th>\n",
       "      <td>2017</td>\n",
       "      <td>0.079623</td>\n",
       "    </tr>\n",
       "    <tr>\n",
       "      <th>3</th>\n",
       "      <td>2018</td>\n",
       "      <td>0.130710</td>\n",
       "    </tr>\n",
       "    <tr>\n",
       "      <th>4</th>\n",
       "      <td>2019</td>\n",
       "      <td>0.119456</td>\n",
       "    </tr>\n",
       "    <tr>\n",
       "      <th>5</th>\n",
       "      <td>2020</td>\n",
       "      <td>0.219005</td>\n",
       "    </tr>\n",
       "  </tbody>\n",
       "</table>\n",
       "</div>"
      ],
      "text/plain": [
       "   Year  Volatility\n",
       "0  2015    0.110022\n",
       "1  2016    0.106171\n",
       "2  2017    0.079623\n",
       "3  2018    0.130710\n",
       "4  2019    0.119456\n",
       "5  2020    0.219005"
      ]
     },
     "execution_count": 81,
     "metadata": {},
     "output_type": "execute_result"
    }
   ],
   "source": [
    "aapl_data = pd.read_csv('AAPL.csv')\n",
    "\n",
    "aapl_volatility = volatility(aapl_data)\n",
    "\n",
    "print(f\"volatility in the full sample was {aapl_volatility[0]}\")\n",
    "\n",
    "aapl_volatility[1]"
   ]
  },
  {
   "cell_type": "markdown",
   "metadata": {},
   "source": [
    "### 10.5"
   ]
  },
  {
   "cell_type": "code",
   "execution_count": 84,
   "metadata": {},
   "outputs": [],
   "source": [
    "# having some issues with this function\n",
    "\n",
    "def split_year_volatility(data):\n",
    "    data['Year'] = [datetime.strptime(i, '%Y-%m-%d').year for i in data.Date]\n",
    "    data['Month'] = [datetime.strptime(i, '%Y-%m-%d').month for i in data.Date]\n",
    "    \n",
    "    first_half_results, second_half_results = [], []\n",
    "    \n",
    "    years = data.Year.unique()\n",
    "\n",
    "    for year in years:\n",
    "        current_data = data[data.Year == year]\n",
    "        first_half = current_data[data.Month < 7].reset_index()\n",
    "        second_half = current_data[data.Month >= 7].reset_index()\n",
    "                \n",
    "        first_half_volatility, second_half_volatility = volatility(first_half)[0], volatility(second_half)[0]\n",
    "        first_half_results.append(first_half_volatility)\n",
    "        second_half_results.append(second_half_volatility)\n",
    "        \n",
    "    final_results = pd.DataFrame({'Year':years, 'FirstHalf':first_half_results, 'SecondHalf':second_half_results})\n",
    "\n",
    "    return final_results"
   ]
  },
  {
   "cell_type": "code",
   "execution_count": 85,
   "metadata": {},
   "outputs": [
    {
     "name": "stdout",
     "output_type": "stream",
     "text": [
      "  Asset  Volatility\n",
      "0  AAPL    0.019010\n",
      "1   WMT    0.013957\n",
      "2   SPY    0.012023\n",
      "3   USD    0.004109\n",
      "   Year  FirstHalf  SecondHalf\n",
      "0  2015        NaN    0.015257\n",
      "1  2016   0.017110    0.012024\n",
      "2  2017   0.010766    0.011424\n",
      "3  2018   0.015179    0.020695\n",
      "4  2019   0.018750    0.014272\n",
      "5  2020   0.033593    0.026430\n"
     ]
    },
    {
     "name": "stderr",
     "output_type": "stream",
     "text": [
      "C:\\Users\\misaa\\AppData\\Local\\Continuum\\anaconda3\\lib\\site-packages\\ipykernel_launcher.py:11: UserWarning: Boolean Series key will be reindexed to match DataFrame index.\n",
      "  # This is added back by InteractiveShellApp.init_path()\n",
      "C:\\Users\\misaa\\AppData\\Local\\Continuum\\anaconda3\\lib\\site-packages\\ipykernel_launcher.py:12: UserWarning: Boolean Series key will be reindexed to match DataFrame index.\n",
      "  if sys.path[0] == '':\n",
      "C:\\Users\\misaa\\AppData\\Local\\Continuum\\anaconda3\\lib\\site-packages\\ipykernel_launcher.py:11: UserWarning: Boolean Series key will be reindexed to match DataFrame index.\n",
      "  # This is added back by InteractiveShellApp.init_path()\n",
      "C:\\Users\\misaa\\AppData\\Local\\Continuum\\anaconda3\\lib\\site-packages\\ipykernel_launcher.py:12: UserWarning: Boolean Series key will be reindexed to match DataFrame index.\n",
      "  if sys.path[0] == '':\n",
      "C:\\Users\\misaa\\AppData\\Local\\Continuum\\anaconda3\\lib\\site-packages\\ipykernel_launcher.py:11: UserWarning: Boolean Series key will be reindexed to match DataFrame index.\n",
      "  # This is added back by InteractiveShellApp.init_path()\n",
      "C:\\Users\\misaa\\AppData\\Local\\Continuum\\anaconda3\\lib\\site-packages\\ipykernel_launcher.py:12: UserWarning: Boolean Series key will be reindexed to match DataFrame index.\n",
      "  if sys.path[0] == '':\n",
      "C:\\Users\\misaa\\AppData\\Local\\Continuum\\anaconda3\\lib\\site-packages\\ipykernel_launcher.py:11: UserWarning: Boolean Series key will be reindexed to match DataFrame index.\n",
      "  # This is added back by InteractiveShellApp.init_path()\n",
      "C:\\Users\\misaa\\AppData\\Local\\Continuum\\anaconda3\\lib\\site-packages\\ipykernel_launcher.py:12: UserWarning: Boolean Series key will be reindexed to match DataFrame index.\n",
      "  if sys.path[0] == '':\n",
      "C:\\Users\\misaa\\AppData\\Local\\Continuum\\anaconda3\\lib\\site-packages\\ipykernel_launcher.py:11: UserWarning: Boolean Series key will be reindexed to match DataFrame index.\n",
      "  # This is added back by InteractiveShellApp.init_path()\n",
      "C:\\Users\\misaa\\AppData\\Local\\Continuum\\anaconda3\\lib\\site-packages\\ipykernel_launcher.py:12: UserWarning: Boolean Series key will be reindexed to match DataFrame index.\n",
      "  if sys.path[0] == '':\n",
      "C:\\Users\\misaa\\AppData\\Local\\Continuum\\anaconda3\\lib\\site-packages\\ipykernel_launcher.py:11: UserWarning: Boolean Series key will be reindexed to match DataFrame index.\n",
      "  # This is added back by InteractiveShellApp.init_path()\n",
      "C:\\Users\\misaa\\AppData\\Local\\Continuum\\anaconda3\\lib\\site-packages\\ipykernel_launcher.py:12: UserWarning: Boolean Series key will be reindexed to match DataFrame index.\n",
      "  if sys.path[0] == '':\n",
      "C:\\Users\\misaa\\AppData\\Local\\Continuum\\anaconda3\\lib\\site-packages\\ipykernel_launcher.py:11: UserWarning: Boolean Series key will be reindexed to match DataFrame index.\n",
      "  # This is added back by InteractiveShellApp.init_path()\n",
      "C:\\Users\\misaa\\AppData\\Local\\Continuum\\anaconda3\\lib\\site-packages\\ipykernel_launcher.py:12: UserWarning: Boolean Series key will be reindexed to match DataFrame index.\n",
      "  if sys.path[0] == '':\n",
      "C:\\Users\\misaa\\AppData\\Local\\Continuum\\anaconda3\\lib\\site-packages\\ipykernel_launcher.py:11: UserWarning: Boolean Series key will be reindexed to match DataFrame index.\n",
      "  # This is added back by InteractiveShellApp.init_path()\n",
      "C:\\Users\\misaa\\AppData\\Local\\Continuum\\anaconda3\\lib\\site-packages\\ipykernel_launcher.py:12: UserWarning: Boolean Series key will be reindexed to match DataFrame index.\n",
      "  if sys.path[0] == '':\n",
      "C:\\Users\\misaa\\AppData\\Local\\Continuum\\anaconda3\\lib\\site-packages\\ipykernel_launcher.py:11: UserWarning: Boolean Series key will be reindexed to match DataFrame index.\n",
      "  # This is added back by InteractiveShellApp.init_path()\n",
      "C:\\Users\\misaa\\AppData\\Local\\Continuum\\anaconda3\\lib\\site-packages\\ipykernel_launcher.py:12: UserWarning: Boolean Series key will be reindexed to match DataFrame index.\n",
      "  if sys.path[0] == '':\n",
      "C:\\Users\\misaa\\AppData\\Local\\Continuum\\anaconda3\\lib\\site-packages\\ipykernel_launcher.py:11: UserWarning: Boolean Series key will be reindexed to match DataFrame index.\n",
      "  # This is added back by InteractiveShellApp.init_path()\n",
      "C:\\Users\\misaa\\AppData\\Local\\Continuum\\anaconda3\\lib\\site-packages\\ipykernel_launcher.py:12: UserWarning: Boolean Series key will be reindexed to match DataFrame index.\n",
      "  if sys.path[0] == '':\n",
      "C:\\Users\\misaa\\AppData\\Local\\Continuum\\anaconda3\\lib\\site-packages\\ipykernel_launcher.py:11: UserWarning: Boolean Series key will be reindexed to match DataFrame index.\n",
      "  # This is added back by InteractiveShellApp.init_path()\n",
      "C:\\Users\\misaa\\AppData\\Local\\Continuum\\anaconda3\\lib\\site-packages\\ipykernel_launcher.py:12: UserWarning: Boolean Series key will be reindexed to match DataFrame index.\n",
      "  if sys.path[0] == '':\n",
      "C:\\Users\\misaa\\AppData\\Local\\Continuum\\anaconda3\\lib\\site-packages\\ipykernel_launcher.py:11: UserWarning: Boolean Series key will be reindexed to match DataFrame index.\n",
      "  # This is added back by InteractiveShellApp.init_path()\n",
      "C:\\Users\\misaa\\AppData\\Local\\Continuum\\anaconda3\\lib\\site-packages\\ipykernel_launcher.py:12: UserWarning: Boolean Series key will be reindexed to match DataFrame index.\n",
      "  if sys.path[0] == '':\n",
      "C:\\Users\\misaa\\AppData\\Local\\Continuum\\anaconda3\\lib\\site-packages\\ipykernel_launcher.py:11: UserWarning: Boolean Series key will be reindexed to match DataFrame index.\n",
      "  # This is added back by InteractiveShellApp.init_path()\n",
      "C:\\Users\\misaa\\AppData\\Local\\Continuum\\anaconda3\\lib\\site-packages\\ipykernel_launcher.py:12: UserWarning: Boolean Series key will be reindexed to match DataFrame index.\n",
      "  if sys.path[0] == '':\n",
      "C:\\Users\\misaa\\AppData\\Local\\Continuum\\anaconda3\\lib\\site-packages\\ipykernel_launcher.py:11: UserWarning: Boolean Series key will be reindexed to match DataFrame index.\n",
      "  # This is added back by InteractiveShellApp.init_path()\n",
      "C:\\Users\\misaa\\AppData\\Local\\Continuum\\anaconda3\\lib\\site-packages\\ipykernel_launcher.py:12: UserWarning: Boolean Series key will be reindexed to match DataFrame index.\n",
      "  if sys.path[0] == '':\n",
      "C:\\Users\\misaa\\AppData\\Local\\Continuum\\anaconda3\\lib\\site-packages\\ipykernel_launcher.py:11: UserWarning: Boolean Series key will be reindexed to match DataFrame index.\n",
      "  # This is added back by InteractiveShellApp.init_path()\n",
      "C:\\Users\\misaa\\AppData\\Local\\Continuum\\anaconda3\\lib\\site-packages\\ipykernel_launcher.py:12: UserWarning: Boolean Series key will be reindexed to match DataFrame index.\n",
      "  if sys.path[0] == '':\n",
      "C:\\Users\\misaa\\AppData\\Local\\Continuum\\anaconda3\\lib\\site-packages\\ipykernel_launcher.py:11: UserWarning: Boolean Series key will be reindexed to match DataFrame index.\n",
      "  # This is added back by InteractiveShellApp.init_path()\n",
      "C:\\Users\\misaa\\AppData\\Local\\Continuum\\anaconda3\\lib\\site-packages\\ipykernel_launcher.py:12: UserWarning: Boolean Series key will be reindexed to match DataFrame index.\n",
      "  if sys.path[0] == '':\n",
      "C:\\Users\\misaa\\AppData\\Local\\Continuum\\anaconda3\\lib\\site-packages\\ipykernel_launcher.py:11: UserWarning: Boolean Series key will be reindexed to match DataFrame index.\n",
      "  # This is added back by InteractiveShellApp.init_path()\n",
      "C:\\Users\\misaa\\AppData\\Local\\Continuum\\anaconda3\\lib\\site-packages\\ipykernel_launcher.py:12: UserWarning: Boolean Series key will be reindexed to match DataFrame index.\n",
      "  if sys.path[0] == '':\n",
      "C:\\Users\\misaa\\AppData\\Local\\Continuum\\anaconda3\\lib\\site-packages\\ipykernel_launcher.py:11: UserWarning: Boolean Series key will be reindexed to match DataFrame index.\n",
      "  # This is added back by InteractiveShellApp.init_path()\n",
      "C:\\Users\\misaa\\AppData\\Local\\Continuum\\anaconda3\\lib\\site-packages\\ipykernel_launcher.py:12: UserWarning: Boolean Series key will be reindexed to match DataFrame index.\n",
      "  if sys.path[0] == '':\n",
      "C:\\Users\\misaa\\AppData\\Local\\Continuum\\anaconda3\\lib\\site-packages\\ipykernel_launcher.py:11: UserWarning: Boolean Series key will be reindexed to match DataFrame index.\n",
      "  # This is added back by InteractiveShellApp.init_path()\n",
      "C:\\Users\\misaa\\AppData\\Local\\Continuum\\anaconda3\\lib\\site-packages\\ipykernel_launcher.py:12: UserWarning: Boolean Series key will be reindexed to match DataFrame index.\n",
      "  if sys.path[0] == '':\n",
      "C:\\Users\\misaa\\AppData\\Local\\Continuum\\anaconda3\\lib\\site-packages\\ipykernel_launcher.py:11: UserWarning: Boolean Series key will be reindexed to match DataFrame index.\n",
      "  # This is added back by InteractiveShellApp.init_path()\n",
      "C:\\Users\\misaa\\AppData\\Local\\Continuum\\anaconda3\\lib\\site-packages\\ipykernel_launcher.py:12: UserWarning: Boolean Series key will be reindexed to match DataFrame index.\n",
      "  if sys.path[0] == '':\n",
      "C:\\Users\\misaa\\AppData\\Local\\Continuum\\anaconda3\\lib\\site-packages\\ipykernel_launcher.py:11: UserWarning: Boolean Series key will be reindexed to match DataFrame index.\n",
      "  # This is added back by InteractiveShellApp.init_path()\n",
      "C:\\Users\\misaa\\AppData\\Local\\Continuum\\anaconda3\\lib\\site-packages\\ipykernel_launcher.py:12: UserWarning: Boolean Series key will be reindexed to match DataFrame index.\n",
      "  if sys.path[0] == '':\n"
     ]
    },
    {
     "name": "stdout",
     "output_type": "stream",
     "text": [
      "   Year  FirstHalf  SecondHalf\n",
      "0  2015        NaN    0.010939\n",
      "1  2016   0.014307    0.009339\n",
      "2  2017   0.009548    0.012775\n",
      "3  2018   0.016119    0.014197\n",
      "4  2019   0.008594    0.009490\n",
      "5  2020   0.024187    0.015173\n",
      "   Year  FirstHalf  SecondHalf\n",
      "0  2015        NaN    0.011472\n",
      "1  2016   0.010152    0.005756\n",
      "2  2017   0.004464    0.004028\n",
      "3  2018   0.010459    0.011142\n",
      "4  2019   0.007975    0.007862\n",
      "5  2020   0.028420    0.011183\n",
      "   Year  FirstHalf  SecondHalf\n",
      "0  2015        NaN    0.008212\n",
      "1  2016   0.005248    0.004104\n",
      "2  2017   0.003944    0.003597\n",
      "3  2018   0.004002    0.003773\n",
      "4  2019   0.002984    0.002663\n",
      "5  2020   0.005354    0.003316\n"
     ]
    },
    {
     "name": "stderr",
     "output_type": "stream",
     "text": [
      "C:\\Users\\misaa\\AppData\\Local\\Continuum\\anaconda3\\lib\\site-packages\\ipykernel_launcher.py:11: UserWarning: Boolean Series key will be reindexed to match DataFrame index.\n",
      "  # This is added back by InteractiveShellApp.init_path()\n",
      "C:\\Users\\misaa\\AppData\\Local\\Continuum\\anaconda3\\lib\\site-packages\\ipykernel_launcher.py:12: UserWarning: Boolean Series key will be reindexed to match DataFrame index.\n",
      "  if sys.path[0] == '':\n",
      "C:\\Users\\misaa\\AppData\\Local\\Continuum\\anaconda3\\lib\\site-packages\\ipykernel_launcher.py:11: UserWarning: Boolean Series key will be reindexed to match DataFrame index.\n",
      "  # This is added back by InteractiveShellApp.init_path()\n",
      "C:\\Users\\misaa\\AppData\\Local\\Continuum\\anaconda3\\lib\\site-packages\\ipykernel_launcher.py:12: UserWarning: Boolean Series key will be reindexed to match DataFrame index.\n",
      "  if sys.path[0] == '':\n",
      "C:\\Users\\misaa\\AppData\\Local\\Continuum\\anaconda3\\lib\\site-packages\\ipykernel_launcher.py:11: UserWarning: Boolean Series key will be reindexed to match DataFrame index.\n",
      "  # This is added back by InteractiveShellApp.init_path()\n",
      "C:\\Users\\misaa\\AppData\\Local\\Continuum\\anaconda3\\lib\\site-packages\\ipykernel_launcher.py:12: UserWarning: Boolean Series key will be reindexed to match DataFrame index.\n",
      "  if sys.path[0] == '':\n"
     ]
    }
   ],
   "source": [
    "# Annual volatility full dataset and by year\n",
    "aapl_data = pd.read_csv('AAPL.csv')\n",
    "aapl_volatility = volatility(aapl_data)\n",
    "\n",
    "wmt_data = pd.read_csv('WMT.csv')\n",
    "wmt_volatility = volatility(wmt_data)\n",
    "\n",
    "spy_data = pd.read_csv('SPY.csv')\n",
    "spy_volatility = volatility(spy_data)\n",
    "\n",
    "usd_data = pd.read_csv('USD.csv')\n",
    "usd_volatility = volatility(usd_data)\n",
    "\n",
    "assets = ['AAPL', 'WMT', 'SPY', 'USD']\n",
    "\n",
    "volatilities = [aapl_volatility[0], wmt_volatility[0], spy_volatility[0], usd_volatility[0]]\n",
    "\n",
    "results = pd.DataFrame({\"Asset\":assets, \"Volatility\":volatilities})\n",
    "print(results)\n",
    "\n",
    "# Annual volatility for first half and second half of each year\n",
    "\n",
    "print(split_year_volatility(aapl_data))\n",
    "print(split_year_volatility(wmt_data))\n",
    "print(split_year_volatility(spy_data))\n",
    "print(split_year_volatility(usd_data))\n",
    "\n",
    "\n"
   ]
  },
  {
   "cell_type": "markdown",
   "metadata": {},
   "source": [
    "### 10.5"
   ]
  },
  {
   "cell_type": "code",
   "execution_count": null,
   "metadata": {},
   "outputs": [],
   "source": [
    "AAPL_data = pd.read_csv('AAPL.csv')\n",
    "WMT_data = pd.read_csv('WMT.csv')\n",
    "SPY_data = pd.read_csv('SPY.csv')\n",
    "USD_data = pd.read_csv('USD.csv')"
   ]
  }
 ],
 "metadata": {
  "kernelspec": {
   "display_name": "Python 3",
   "language": "python",
   "name": "python3"
  },
  "language_info": {
   "codemirror_mode": {
    "name": "ipython",
    "version": 3
   },
   "file_extension": ".py",
   "mimetype": "text/x-python",
   "name": "python",
   "nbconvert_exporter": "python",
   "pygments_lexer": "ipython3",
   "version": "3.7.3"
  }
 },
 "nbformat": 4,
 "nbformat_minor": 4
}
